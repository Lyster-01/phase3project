{
 "cells": [
  {
   "cell_type": "code",
   "execution_count": 224,
   "id": "df89e042",
   "metadata": {},
   "outputs": [],
   "source": [
    "#Import the necessary libraries\n",
    "import pandas as pd\n",
    "import matplotlib.pyplot as plt\n",
    "import seaborn as sns\n",
    "from scipy.stats import shapiro, levene, f_oneway, kruskal\n",
    "from statsmodels.stats.multicomp import pairwise_tukeyhsd\n",
    "import warnings\n",
    "warnings.filterwarnings(\"ignore\")"
   ]
  },
  {
   "cell_type": "code",
   "execution_count": 193,
   "id": "28bd26df",
   "metadata": {},
   "outputs": [
    {
     "data": {
      "text/html": [
       "<div>\n",
       "<style scoped>\n",
       "    .dataframe tbody tr th:only-of-type {\n",
       "        vertical-align: middle;\n",
       "    }\n",
       "\n",
       "    .dataframe tbody tr th {\n",
       "        vertical-align: top;\n",
       "    }\n",
       "\n",
       "    .dataframe thead th {\n",
       "        text-align: right;\n",
       "    }\n",
       "</style>\n",
       "<table border=\"1\" class=\"dataframe\">\n",
       "  <thead>\n",
       "    <tr style=\"text-align: right;\">\n",
       "      <th></th>\n",
       "      <th>Patient_ID</th>\n",
       "      <th>Age</th>\n",
       "      <th>Gender</th>\n",
       "      <th>Country_Region</th>\n",
       "      <th>Year</th>\n",
       "      <th>Genetic_Risk</th>\n",
       "      <th>Air_Pollution</th>\n",
       "      <th>Alcohol_Use</th>\n",
       "      <th>Smoking</th>\n",
       "      <th>Obesity_Level</th>\n",
       "      <th>Cancer_Type</th>\n",
       "      <th>Cancer_Stage</th>\n",
       "      <th>Treatment_Cost_USD</th>\n",
       "      <th>Survival_Years</th>\n",
       "      <th>Target_Severity_Score</th>\n",
       "    </tr>\n",
       "  </thead>\n",
       "  <tbody>\n",
       "    <tr>\n",
       "      <th>0</th>\n",
       "      <td>PT0000000</td>\n",
       "      <td>71</td>\n",
       "      <td>Male</td>\n",
       "      <td>UK</td>\n",
       "      <td>2021</td>\n",
       "      <td>6.4</td>\n",
       "      <td>2.8</td>\n",
       "      <td>9.5</td>\n",
       "      <td>0.9</td>\n",
       "      <td>8.7</td>\n",
       "      <td>Lung</td>\n",
       "      <td>Stage III</td>\n",
       "      <td>62913.44</td>\n",
       "      <td>5.9</td>\n",
       "      <td>4.92</td>\n",
       "    </tr>\n",
       "    <tr>\n",
       "      <th>1</th>\n",
       "      <td>PT0000001</td>\n",
       "      <td>34</td>\n",
       "      <td>Male</td>\n",
       "      <td>China</td>\n",
       "      <td>2021</td>\n",
       "      <td>1.3</td>\n",
       "      <td>4.5</td>\n",
       "      <td>3.7</td>\n",
       "      <td>3.9</td>\n",
       "      <td>6.3</td>\n",
       "      <td>Leukemia</td>\n",
       "      <td>Stage 0</td>\n",
       "      <td>12573.41</td>\n",
       "      <td>4.7</td>\n",
       "      <td>4.65</td>\n",
       "    </tr>\n",
       "    <tr>\n",
       "      <th>2</th>\n",
       "      <td>PT0000002</td>\n",
       "      <td>80</td>\n",
       "      <td>Male</td>\n",
       "      <td>Pakistan</td>\n",
       "      <td>2023</td>\n",
       "      <td>7.4</td>\n",
       "      <td>7.9</td>\n",
       "      <td>2.4</td>\n",
       "      <td>4.7</td>\n",
       "      <td>0.1</td>\n",
       "      <td>Breast</td>\n",
       "      <td>Stage II</td>\n",
       "      <td>6984.33</td>\n",
       "      <td>7.1</td>\n",
       "      <td>5.84</td>\n",
       "    </tr>\n",
       "    <tr>\n",
       "      <th>3</th>\n",
       "      <td>PT0000003</td>\n",
       "      <td>40</td>\n",
       "      <td>Male</td>\n",
       "      <td>UK</td>\n",
       "      <td>2015</td>\n",
       "      <td>1.7</td>\n",
       "      <td>2.9</td>\n",
       "      <td>4.8</td>\n",
       "      <td>3.5</td>\n",
       "      <td>2.7</td>\n",
       "      <td>Colon</td>\n",
       "      <td>Stage I</td>\n",
       "      <td>67446.25</td>\n",
       "      <td>1.6</td>\n",
       "      <td>3.12</td>\n",
       "    </tr>\n",
       "    <tr>\n",
       "      <th>4</th>\n",
       "      <td>PT0000004</td>\n",
       "      <td>43</td>\n",
       "      <td>Female</td>\n",
       "      <td>Brazil</td>\n",
       "      <td>2017</td>\n",
       "      <td>5.1</td>\n",
       "      <td>2.8</td>\n",
       "      <td>2.3</td>\n",
       "      <td>6.7</td>\n",
       "      <td>0.5</td>\n",
       "      <td>Skin</td>\n",
       "      <td>Stage III</td>\n",
       "      <td>77977.12</td>\n",
       "      <td>2.9</td>\n",
       "      <td>3.62</td>\n",
       "    </tr>\n",
       "  </tbody>\n",
       "</table>\n",
       "</div>"
      ],
      "text/plain": [
       "  Patient_ID  Age  Gender Country_Region  Year  Genetic_Risk  Air_Pollution  \\\n",
       "0  PT0000000   71    Male             UK  2021           6.4            2.8   \n",
       "1  PT0000001   34    Male          China  2021           1.3            4.5   \n",
       "2  PT0000002   80    Male       Pakistan  2023           7.4            7.9   \n",
       "3  PT0000003   40    Male             UK  2015           1.7            2.9   \n",
       "4  PT0000004   43  Female         Brazil  2017           5.1            2.8   \n",
       "\n",
       "   Alcohol_Use  Smoking  Obesity_Level Cancer_Type Cancer_Stage  \\\n",
       "0          9.5      0.9            8.7        Lung    Stage III   \n",
       "1          3.7      3.9            6.3    Leukemia      Stage 0   \n",
       "2          2.4      4.7            0.1      Breast     Stage II   \n",
       "3          4.8      3.5            2.7       Colon      Stage I   \n",
       "4          2.3      6.7            0.5        Skin    Stage III   \n",
       "\n",
       "   Treatment_Cost_USD  Survival_Years  Target_Severity_Score  \n",
       "0            62913.44             5.9                   4.92  \n",
       "1            12573.41             4.7                   4.65  \n",
       "2             6984.33             7.1                   5.84  \n",
       "3            67446.25             1.6                   3.12  \n",
       "4            77977.12             2.9                   3.62  "
      ]
     },
     "execution_count": 193,
     "metadata": {},
     "output_type": "execute_result"
    }
   ],
   "source": [
    "#Loading the dataset and display the first few rows\n",
    "df = pd.read_csv(\"global_cancer_patients_2015_2024.csv\")\n",
    "df.head()"
   ]
  },
  {
   "cell_type": "code",
   "execution_count": 194,
   "id": "a68788fb",
   "metadata": {},
   "outputs": [
    {
     "data": {
      "text/plain": [
       "Index(['Patient_ID', 'Age', 'Gender', 'Country_Region', 'Year', 'Genetic_Risk',\n",
       "       'Air_Pollution', 'Alcohol_Use', 'Smoking', 'Obesity_Level',\n",
       "       'Cancer_Type', 'Cancer_Stage', 'Treatment_Cost_USD', 'Survival_Years',\n",
       "       'Target_Severity_Score'],\n",
       "      dtype='object')"
      ]
     },
     "execution_count": 194,
     "metadata": {},
     "output_type": "execute_result"
    }
   ],
   "source": [
    "#Check for the columns in the dataframe\n",
    "df.columns"
   ]
  },
  {
   "cell_type": "code",
   "execution_count": 195,
   "id": "f1837215",
   "metadata": {},
   "outputs": [
    {
     "name": "stdout",
     "output_type": "stream",
     "text": [
      "The dataframe contains 50000 rows\n",
      "The dataframe contains 15 columns\n"
     ]
    }
   ],
   "source": [
    "#Show the number of rows and columns in the dataset\n",
    "print(f'The dataframe contains {df.shape[0]} rows')\n",
    "print(f'The dataframe contains {df.shape[1]} columns')"
   ]
  },
  {
   "cell_type": "code",
   "execution_count": 196,
   "id": "01d0a356",
   "metadata": {},
   "outputs": [
    {
     "name": "stdout",
     "output_type": "stream",
     "text": [
      "<class 'pandas.core.frame.DataFrame'>\n",
      "RangeIndex: 50000 entries, 0 to 49999\n",
      "Data columns (total 15 columns):\n",
      " #   Column                 Non-Null Count  Dtype  \n",
      "---  ------                 --------------  -----  \n",
      " 0   Patient_ID             50000 non-null  object \n",
      " 1   Age                    50000 non-null  int64  \n",
      " 2   Gender                 50000 non-null  object \n",
      " 3   Country_Region         50000 non-null  object \n",
      " 4   Year                   50000 non-null  int64  \n",
      " 5   Genetic_Risk           50000 non-null  float64\n",
      " 6   Air_Pollution          50000 non-null  float64\n",
      " 7   Alcohol_Use            50000 non-null  float64\n",
      " 8   Smoking                50000 non-null  float64\n",
      " 9   Obesity_Level          50000 non-null  float64\n",
      " 10  Cancer_Type            50000 non-null  object \n",
      " 11  Cancer_Stage           50000 non-null  object \n",
      " 12  Treatment_Cost_USD     50000 non-null  float64\n",
      " 13  Survival_Years         50000 non-null  float64\n",
      " 14  Target_Severity_Score  50000 non-null  float64\n",
      "dtypes: float64(8), int64(2), object(5)\n",
      "memory usage: 5.7+ MB\n"
     ]
    }
   ],
   "source": [
    "# Get the basic information and concise summary of the dataframe\n",
    "df.info()"
   ]
  },
  {
   "cell_type": "code",
   "execution_count": 197,
   "id": "b15a136a",
   "metadata": {},
   "outputs": [
    {
     "data": {
      "text/html": [
       "<div>\n",
       "<style scoped>\n",
       "    .dataframe tbody tr th:only-of-type {\n",
       "        vertical-align: middle;\n",
       "    }\n",
       "\n",
       "    .dataframe tbody tr th {\n",
       "        vertical-align: top;\n",
       "    }\n",
       "\n",
       "    .dataframe thead th {\n",
       "        text-align: right;\n",
       "    }\n",
       "</style>\n",
       "<table border=\"1\" class=\"dataframe\">\n",
       "  <thead>\n",
       "    <tr style=\"text-align: right;\">\n",
       "      <th></th>\n",
       "      <th>Age</th>\n",
       "      <th>Year</th>\n",
       "      <th>Genetic_Risk</th>\n",
       "      <th>Air_Pollution</th>\n",
       "      <th>Alcohol_Use</th>\n",
       "      <th>Smoking</th>\n",
       "      <th>Obesity_Level</th>\n",
       "      <th>Treatment_Cost_USD</th>\n",
       "      <th>Survival_Years</th>\n",
       "      <th>Target_Severity_Score</th>\n",
       "    </tr>\n",
       "  </thead>\n",
       "  <tbody>\n",
       "    <tr>\n",
       "      <th>count</th>\n",
       "      <td>50000.000000</td>\n",
       "      <td>50000.000000</td>\n",
       "      <td>50000.000000</td>\n",
       "      <td>50000.000000</td>\n",
       "      <td>50000.000000</td>\n",
       "      <td>50000.000000</td>\n",
       "      <td>50000.000000</td>\n",
       "      <td>50000.000000</td>\n",
       "      <td>50000.000000</td>\n",
       "      <td>50000.000000</td>\n",
       "    </tr>\n",
       "    <tr>\n",
       "      <th>mean</th>\n",
       "      <td>54.421540</td>\n",
       "      <td>2019.480520</td>\n",
       "      <td>5.001698</td>\n",
       "      <td>5.010126</td>\n",
       "      <td>5.010880</td>\n",
       "      <td>4.989826</td>\n",
       "      <td>4.991176</td>\n",
       "      <td>52467.298239</td>\n",
       "      <td>5.006462</td>\n",
       "      <td>4.951207</td>\n",
       "    </tr>\n",
       "    <tr>\n",
       "      <th>std</th>\n",
       "      <td>20.224451</td>\n",
       "      <td>2.871485</td>\n",
       "      <td>2.885773</td>\n",
       "      <td>2.888399</td>\n",
       "      <td>2.888769</td>\n",
       "      <td>2.881579</td>\n",
       "      <td>2.894504</td>\n",
       "      <td>27363.229379</td>\n",
       "      <td>2.883335</td>\n",
       "      <td>1.199677</td>\n",
       "    </tr>\n",
       "    <tr>\n",
       "      <th>min</th>\n",
       "      <td>20.000000</td>\n",
       "      <td>2015.000000</td>\n",
       "      <td>0.000000</td>\n",
       "      <td>0.000000</td>\n",
       "      <td>0.000000</td>\n",
       "      <td>0.000000</td>\n",
       "      <td>0.000000</td>\n",
       "      <td>5000.050000</td>\n",
       "      <td>0.000000</td>\n",
       "      <td>0.900000</td>\n",
       "    </tr>\n",
       "    <tr>\n",
       "      <th>25%</th>\n",
       "      <td>37.000000</td>\n",
       "      <td>2017.000000</td>\n",
       "      <td>2.500000</td>\n",
       "      <td>2.500000</td>\n",
       "      <td>2.500000</td>\n",
       "      <td>2.500000</td>\n",
       "      <td>2.500000</td>\n",
       "      <td>28686.225000</td>\n",
       "      <td>2.500000</td>\n",
       "      <td>4.120000</td>\n",
       "    </tr>\n",
       "    <tr>\n",
       "      <th>50%</th>\n",
       "      <td>54.000000</td>\n",
       "      <td>2019.000000</td>\n",
       "      <td>5.000000</td>\n",
       "      <td>5.000000</td>\n",
       "      <td>5.000000</td>\n",
       "      <td>5.000000</td>\n",
       "      <td>5.000000</td>\n",
       "      <td>52474.310000</td>\n",
       "      <td>5.000000</td>\n",
       "      <td>4.950000</td>\n",
       "    </tr>\n",
       "    <tr>\n",
       "      <th>75%</th>\n",
       "      <td>72.000000</td>\n",
       "      <td>2022.000000</td>\n",
       "      <td>7.500000</td>\n",
       "      <td>7.500000</td>\n",
       "      <td>7.500000</td>\n",
       "      <td>7.500000</td>\n",
       "      <td>7.500000</td>\n",
       "      <td>76232.720000</td>\n",
       "      <td>7.500000</td>\n",
       "      <td>5.780000</td>\n",
       "    </tr>\n",
       "    <tr>\n",
       "      <th>max</th>\n",
       "      <td>89.000000</td>\n",
       "      <td>2024.000000</td>\n",
       "      <td>10.000000</td>\n",
       "      <td>10.000000</td>\n",
       "      <td>10.000000</td>\n",
       "      <td>10.000000</td>\n",
       "      <td>10.000000</td>\n",
       "      <td>99999.840000</td>\n",
       "      <td>10.000000</td>\n",
       "      <td>9.160000</td>\n",
       "    </tr>\n",
       "  </tbody>\n",
       "</table>\n",
       "</div>"
      ],
      "text/plain": [
       "                Age          Year  Genetic_Risk  Air_Pollution   Alcohol_Use  \\\n",
       "count  50000.000000  50000.000000  50000.000000   50000.000000  50000.000000   \n",
       "mean      54.421540   2019.480520      5.001698       5.010126      5.010880   \n",
       "std       20.224451      2.871485      2.885773       2.888399      2.888769   \n",
       "min       20.000000   2015.000000      0.000000       0.000000      0.000000   \n",
       "25%       37.000000   2017.000000      2.500000       2.500000      2.500000   \n",
       "50%       54.000000   2019.000000      5.000000       5.000000      5.000000   \n",
       "75%       72.000000   2022.000000      7.500000       7.500000      7.500000   \n",
       "max       89.000000   2024.000000     10.000000      10.000000     10.000000   \n",
       "\n",
       "            Smoking  Obesity_Level  Treatment_Cost_USD  Survival_Years  \\\n",
       "count  50000.000000   50000.000000        50000.000000    50000.000000   \n",
       "mean       4.989826       4.991176        52467.298239        5.006462   \n",
       "std        2.881579       2.894504        27363.229379        2.883335   \n",
       "min        0.000000       0.000000         5000.050000        0.000000   \n",
       "25%        2.500000       2.500000        28686.225000        2.500000   \n",
       "50%        5.000000       5.000000        52474.310000        5.000000   \n",
       "75%        7.500000       7.500000        76232.720000        7.500000   \n",
       "max       10.000000      10.000000        99999.840000       10.000000   \n",
       "\n",
       "       Target_Severity_Score  \n",
       "count           50000.000000  \n",
       "mean                4.951207  \n",
       "std                 1.199677  \n",
       "min                 0.900000  \n",
       "25%                 4.120000  \n",
       "50%                 4.950000  \n",
       "75%                 5.780000  \n",
       "max                 9.160000  "
      ]
     },
     "execution_count": 197,
     "metadata": {},
     "output_type": "execute_result"
    }
   ],
   "source": [
    "#checking the summary statistics of the dataset\n",
    "df.describe()"
   ]
  },
  {
   "cell_type": "code",
   "execution_count": 198,
   "id": "2bb998aa",
   "metadata": {},
   "outputs": [
    {
     "data": {
      "text/plain": [
       "0"
      ]
     },
     "execution_count": 198,
     "metadata": {},
     "output_type": "execute_result"
    }
   ],
   "source": [
    "# Check for the duplicates in the dataframe \n",
    "df.duplicated().sum()"
   ]
  },
  {
   "cell_type": "markdown",
   "id": "9799d0b8",
   "metadata": {},
   "source": [
    "There are no duplicates in the dataframe so the dataframe will remain unchanged "
   ]
  },
  {
   "cell_type": "code",
   "execution_count": 199,
   "id": "08cc1edb",
   "metadata": {},
   "outputs": [
    {
     "data": {
      "text/plain": [
       "Patient_ID                object\n",
       "Age                        int64\n",
       "Gender                    object\n",
       "Country_Region            object\n",
       "Year                       int64\n",
       "Genetic_Risk             float64\n",
       "Air_Pollution            float64\n",
       "Alcohol_Use              float64\n",
       "Smoking                  float64\n",
       "Obesity_Level            float64\n",
       "Cancer_Type               object\n",
       "Cancer_Stage              object\n",
       "Treatment_Cost_USD       float64\n",
       "Survival_Years           float64\n",
       "Target_Severity_Score    float64\n",
       "dtype: object"
      ]
     },
     "execution_count": 199,
     "metadata": {},
     "output_type": "execute_result"
    }
   ],
   "source": [
    "#Check for the data types of the columns in the dataframe\n",
    "df.dtypes"
   ]
  },
  {
   "cell_type": "code",
   "execution_count": 200,
   "id": "8dc56ae1",
   "metadata": {},
   "outputs": [
    {
     "data": {
      "text/plain": [
       "Patient_ID               0\n",
       "Age                      0\n",
       "Gender                   0\n",
       "Country_Region           0\n",
       "Year                     0\n",
       "Genetic_Risk             0\n",
       "Air_Pollution            0\n",
       "Alcohol_Use              0\n",
       "Smoking                  0\n",
       "Obesity_Level            0\n",
       "Cancer_Type              0\n",
       "Cancer_Stage             0\n",
       "Treatment_Cost_USD       0\n",
       "Survival_Years           0\n",
       "Target_Severity_Score    0\n",
       "dtype: int64"
      ]
     },
     "execution_count": 200,
     "metadata": {},
     "output_type": "execute_result"
    }
   ],
   "source": [
    "# Checking for missing values in the dataset\n",
    "df.isna().sum()"
   ]
  },
  {
   "cell_type": "markdown",
   "id": "f018f5fa",
   "metadata": {},
   "source": [
    "There aren't any missing values in the dataframe so the dataframe will remain unchanged "
   ]
  },
  {
   "cell_type": "markdown",
   "id": "dc2f5a1f",
   "metadata": {},
   "source": [
    "The following are the irrelevant columns that we are going to drop that are not needed  for  analysis and modeling\n",
    "1.\n"
   ]
  },
  {
   "cell_type": "code",
   "execution_count": null,
   "id": "60fe09c8",
   "metadata": {},
   "outputs": [],
   "source": []
  },
  {
   "cell_type": "code",
   "execution_count": 201,
   "id": "a8076304",
   "metadata": {},
   "outputs": [
    {
     "name": "stdout",
     "output_type": "stream",
     "text": [
      "Column: Age\n",
      "Number of outliers: 0\n",
      "----------------------------------------\n",
      "Column: Year\n",
      "Number of outliers: 0\n",
      "----------------------------------------\n",
      "Column: Genetic_Risk\n",
      "Number of outliers: 0\n",
      "----------------------------------------\n",
      "Column: Air_Pollution\n",
      "Number of outliers: 0\n",
      "----------------------------------------\n",
      "Column: Alcohol_Use\n",
      "Number of outliers: 0\n",
      "----------------------------------------\n",
      "Column: Smoking\n",
      "Number of outliers: 0\n",
      "----------------------------------------\n",
      "Column: Obesity_Level\n",
      "Number of outliers: 0\n",
      "----------------------------------------\n",
      "Column: Treatment_Cost_USD\n",
      "Number of outliers: 0\n",
      "----------------------------------------\n",
      "Column: Survival_Years\n",
      "Number of outliers: 0\n",
      "----------------------------------------\n",
      "Column: Target_Severity_Score\n",
      "Number of outliers: 151\n",
      "----------------------------------------\n"
     ]
    }
   ],
   "source": [
    "\n",
    "\n",
    "# Select only numeric columns\n",
    "numeric_cols = df.select_dtypes(include=['float64', 'int64']).columns\n",
    "\n",
    "# Dictionary to store outlier indices per feature\n",
    "outlier_indices = {}\n",
    "\n",
    "# Loop through each numeric column to compute IQR and find outliers\n",
    "for col in numeric_cols:\n",
    "    Q1 = df[col].quantile(0.25)\n",
    "    Q3 = df[col].quantile(0.75)\n",
    "    IQR = Q3 - Q1\n",
    "    \n",
    "    lower_bound = Q1 - 1.5 * IQR\n",
    "    upper_bound = Q3 + 1.5 * IQR\n",
    "    \n",
    "    # Identify outliers\n",
    "    outliers = df[(df[col] < lower_bound) | (df[col] > upper_bound)]\n",
    "    \n",
    "    outlier_indices[col] = outliers.index.tolist()\n",
    "    \n",
    "    print(f\"Column: {col}\")\n",
    "    print(f\"Number of outliers: {len(outliers)}\")\n",
    "    print(\"-\" * 40)\n"
   ]
  },
  {
   "cell_type": "markdown",
   "id": "1f6d4364",
   "metadata": {},
   "source": [
    "There are **151 outliers** detected in the `Target_Severity_Score` column based on the IQR method, and they will be **dropped** to improve model reliability.\n"
   ]
  },
  {
   "cell_type": "code",
   "execution_count": 202,
   "id": "20e090e7",
   "metadata": {},
   "outputs": [],
   "source": [
    "# Handling Outliers in Target_Severity_Score\n",
    "#During exploratory data analysis, outliers were identified in the Target_Severity_Score column using the Interquartile Range (IQR) method. A total of 151 outliers were detected. Given that the dataset contains a sufficient number of records, these outliers were removed to reduce their potential impact on model performance and to ensure more stable and reliable predictions. This step was taken to improve model generalization and reduce the risk of overfitting due to extreme values."
   ]
  },
  {
   "cell_type": "code",
   "execution_count": 203,
   "id": "9a30cb11",
   "metadata": {},
   "outputs": [],
   "source": [
    "df = df[(df['Target_Severity_Score'] >= lower_bound) & (df['Target_Severity_Score'] <= upper_bound)]\n"
   ]
  },
  {
   "cell_type": "code",
   "execution_count": 204,
   "id": "a95ac20e",
   "metadata": {},
   "outputs": [
    {
     "name": "stdout",
     "output_type": "stream",
     "text": [
      "<class 'pandas.core.frame.DataFrame'>\n",
      "Int64Index: 49849 entries, 0 to 49999\n",
      "Data columns (total 15 columns):\n",
      " #   Column                 Non-Null Count  Dtype  \n",
      "---  ------                 --------------  -----  \n",
      " 0   Patient_ID             49849 non-null  object \n",
      " 1   Age                    49849 non-null  int64  \n",
      " 2   Gender                 49849 non-null  object \n",
      " 3   Country_Region         49849 non-null  object \n",
      " 4   Year                   49849 non-null  int64  \n",
      " 5   Genetic_Risk           49849 non-null  float64\n",
      " 6   Air_Pollution          49849 non-null  float64\n",
      " 7   Alcohol_Use            49849 non-null  float64\n",
      " 8   Smoking                49849 non-null  float64\n",
      " 9   Obesity_Level          49849 non-null  float64\n",
      " 10  Cancer_Type            49849 non-null  object \n",
      " 11  Cancer_Stage           49849 non-null  object \n",
      " 12  Treatment_Cost_USD     49849 non-null  float64\n",
      " 13  Survival_Years         49849 non-null  float64\n",
      " 14  Target_Severity_Score  49849 non-null  float64\n",
      "dtypes: float64(8), int64(2), object(5)\n",
      "memory usage: 6.1+ MB\n"
     ]
    }
   ],
   "source": [
    "#Checking agin to see the basic information of the dataset after dropping the outliers\n",
    "df.info()"
   ]
  },
  {
   "cell_type": "code",
   "execution_count": 205,
   "id": "bdc099ea",
   "metadata": {},
   "outputs": [
    {
     "name": "stdout",
     "output_type": "stream",
     "text": [
      "The dataframe now contains 49849 rows\n",
      "The dataframe now contains 15 columns\n"
     ]
    }
   ],
   "source": [
    "#Checking to see the shape of the dataset\n",
    "print(f'The dataframe now contains {df.shape[0]} rows')\n",
    "print(f'The dataframe now contains {df.shape[1]} columns')"
   ]
  },
  {
   "cell_type": "code",
   "execution_count": 206,
   "id": "3efa2998",
   "metadata": {},
   "outputs": [
    {
     "data": {
      "text/plain": [
       "0    2021\n",
       "1    2021\n",
       "2    2023\n",
       "3    2015\n",
       "4    2017\n",
       "Name: Year, dtype: int64"
      ]
     },
     "execution_count": 206,
     "metadata": {},
     "output_type": "execute_result"
    }
   ],
   "source": [
    "df['Year'].head()"
   ]
  },
  {
   "cell_type": "code",
   "execution_count": 207,
   "id": "d9983662",
   "metadata": {},
   "outputs": [
    {
     "data": {
      "text/html": [
       "<div>\n",
       "<style scoped>\n",
       "    .dataframe tbody tr th:only-of-type {\n",
       "        vertical-align: middle;\n",
       "    }\n",
       "\n",
       "    .dataframe tbody tr th {\n",
       "        vertical-align: top;\n",
       "    }\n",
       "\n",
       "    .dataframe thead th {\n",
       "        text-align: right;\n",
       "    }\n",
       "</style>\n",
       "<table border=\"1\" class=\"dataframe\">\n",
       "  <thead>\n",
       "    <tr style=\"text-align: right;\">\n",
       "      <th></th>\n",
       "      <th>Patient_ID</th>\n",
       "      <th>Age</th>\n",
       "      <th>Gender</th>\n",
       "      <th>Country_Region</th>\n",
       "      <th>Year</th>\n",
       "      <th>Genetic_Risk</th>\n",
       "      <th>Air_Pollution</th>\n",
       "      <th>Alcohol_Use</th>\n",
       "      <th>Smoking</th>\n",
       "      <th>Obesity_Level</th>\n",
       "      <th>Cancer_Type</th>\n",
       "      <th>Cancer_Stage</th>\n",
       "      <th>Treatment_Cost_USD</th>\n",
       "      <th>Survival_Years</th>\n",
       "      <th>Target_Severity_Score</th>\n",
       "    </tr>\n",
       "  </thead>\n",
       "  <tbody>\n",
       "    <tr>\n",
       "      <th>0</th>\n",
       "      <td>PT0000000</td>\n",
       "      <td>71</td>\n",
       "      <td>Male</td>\n",
       "      <td>UK</td>\n",
       "      <td>2021</td>\n",
       "      <td>6.4</td>\n",
       "      <td>2.8</td>\n",
       "      <td>9.5</td>\n",
       "      <td>0.9</td>\n",
       "      <td>8.7</td>\n",
       "      <td>Lung</td>\n",
       "      <td>Stage III</td>\n",
       "      <td>62913.44</td>\n",
       "      <td>5.9</td>\n",
       "      <td>4.92</td>\n",
       "    </tr>\n",
       "    <tr>\n",
       "      <th>1</th>\n",
       "      <td>PT0000001</td>\n",
       "      <td>34</td>\n",
       "      <td>Male</td>\n",
       "      <td>China</td>\n",
       "      <td>2021</td>\n",
       "      <td>1.3</td>\n",
       "      <td>4.5</td>\n",
       "      <td>3.7</td>\n",
       "      <td>3.9</td>\n",
       "      <td>6.3</td>\n",
       "      <td>Leukemia</td>\n",
       "      <td>Stage 0</td>\n",
       "      <td>12573.41</td>\n",
       "      <td>4.7</td>\n",
       "      <td>4.65</td>\n",
       "    </tr>\n",
       "    <tr>\n",
       "      <th>2</th>\n",
       "      <td>PT0000002</td>\n",
       "      <td>80</td>\n",
       "      <td>Male</td>\n",
       "      <td>Pakistan</td>\n",
       "      <td>2023</td>\n",
       "      <td>7.4</td>\n",
       "      <td>7.9</td>\n",
       "      <td>2.4</td>\n",
       "      <td>4.7</td>\n",
       "      <td>0.1</td>\n",
       "      <td>Breast</td>\n",
       "      <td>Stage II</td>\n",
       "      <td>6984.33</td>\n",
       "      <td>7.1</td>\n",
       "      <td>5.84</td>\n",
       "    </tr>\n",
       "    <tr>\n",
       "      <th>3</th>\n",
       "      <td>PT0000003</td>\n",
       "      <td>40</td>\n",
       "      <td>Male</td>\n",
       "      <td>UK</td>\n",
       "      <td>2015</td>\n",
       "      <td>1.7</td>\n",
       "      <td>2.9</td>\n",
       "      <td>4.8</td>\n",
       "      <td>3.5</td>\n",
       "      <td>2.7</td>\n",
       "      <td>Colon</td>\n",
       "      <td>Stage I</td>\n",
       "      <td>67446.25</td>\n",
       "      <td>1.6</td>\n",
       "      <td>3.12</td>\n",
       "    </tr>\n",
       "    <tr>\n",
       "      <th>4</th>\n",
       "      <td>PT0000004</td>\n",
       "      <td>43</td>\n",
       "      <td>Female</td>\n",
       "      <td>Brazil</td>\n",
       "      <td>2017</td>\n",
       "      <td>5.1</td>\n",
       "      <td>2.8</td>\n",
       "      <td>2.3</td>\n",
       "      <td>6.7</td>\n",
       "      <td>0.5</td>\n",
       "      <td>Skin</td>\n",
       "      <td>Stage III</td>\n",
       "      <td>77977.12</td>\n",
       "      <td>2.9</td>\n",
       "      <td>3.62</td>\n",
       "    </tr>\n",
       "    <tr>\n",
       "      <th>5</th>\n",
       "      <td>PT0000005</td>\n",
       "      <td>22</td>\n",
       "      <td>Male</td>\n",
       "      <td>Germany</td>\n",
       "      <td>2018</td>\n",
       "      <td>9.5</td>\n",
       "      <td>6.4</td>\n",
       "      <td>3.3</td>\n",
       "      <td>3.9</td>\n",
       "      <td>5.1</td>\n",
       "      <td>Cervical</td>\n",
       "      <td>Stage IV</td>\n",
       "      <td>33468.99</td>\n",
       "      <td>9.5</td>\n",
       "      <td>5.98</td>\n",
       "    </tr>\n",
       "    <tr>\n",
       "      <th>6</th>\n",
       "      <td>PT0000006</td>\n",
       "      <td>41</td>\n",
       "      <td>Male</td>\n",
       "      <td>Canada</td>\n",
       "      <td>2021</td>\n",
       "      <td>5.1</td>\n",
       "      <td>8.2</td>\n",
       "      <td>0.3</td>\n",
       "      <td>3.7</td>\n",
       "      <td>2.1</td>\n",
       "      <td>Cervical</td>\n",
       "      <td>Stage 0</td>\n",
       "      <td>9790.83</td>\n",
       "      <td>1.0</td>\n",
       "      <td>5.05</td>\n",
       "    </tr>\n",
       "    <tr>\n",
       "      <th>7</th>\n",
       "      <td>PT0000007</td>\n",
       "      <td>72</td>\n",
       "      <td>Female</td>\n",
       "      <td>Canada</td>\n",
       "      <td>2018</td>\n",
       "      <td>6.0</td>\n",
       "      <td>8.2</td>\n",
       "      <td>6.4</td>\n",
       "      <td>0.6</td>\n",
       "      <td>8.5</td>\n",
       "      <td>Prostate</td>\n",
       "      <td>Stage I</td>\n",
       "      <td>17161.40</td>\n",
       "      <td>6.2</td>\n",
       "      <td>6.02</td>\n",
       "    </tr>\n",
       "    <tr>\n",
       "      <th>8</th>\n",
       "      <td>PT0000008</td>\n",
       "      <td>21</td>\n",
       "      <td>Male</td>\n",
       "      <td>USA</td>\n",
       "      <td>2022</td>\n",
       "      <td>4.3</td>\n",
       "      <td>3.8</td>\n",
       "      <td>1.0</td>\n",
       "      <td>0.3</td>\n",
       "      <td>8.5</td>\n",
       "      <td>Lung</td>\n",
       "      <td>Stage II</td>\n",
       "      <td>56458.48</td>\n",
       "      <td>6.5</td>\n",
       "      <td>3.36</td>\n",
       "    </tr>\n",
       "    <tr>\n",
       "      <th>9</th>\n",
       "      <td>PT0000009</td>\n",
       "      <td>49</td>\n",
       "      <td>Female</td>\n",
       "      <td>Canada</td>\n",
       "      <td>2016</td>\n",
       "      <td>8.1</td>\n",
       "      <td>0.8</td>\n",
       "      <td>7.8</td>\n",
       "      <td>5.2</td>\n",
       "      <td>9.3</td>\n",
       "      <td>Prostate</td>\n",
       "      <td>Stage II</td>\n",
       "      <td>56133.45</td>\n",
       "      <td>5.7</td>\n",
       "      <td>5.76</td>\n",
       "    </tr>\n",
       "  </tbody>\n",
       "</table>\n",
       "</div>"
      ],
      "text/plain": [
       "  Patient_ID  Age  Gender Country_Region  Year  Genetic_Risk  Air_Pollution  \\\n",
       "0  PT0000000   71    Male             UK  2021           6.4            2.8   \n",
       "1  PT0000001   34    Male          China  2021           1.3            4.5   \n",
       "2  PT0000002   80    Male       Pakistan  2023           7.4            7.9   \n",
       "3  PT0000003   40    Male             UK  2015           1.7            2.9   \n",
       "4  PT0000004   43  Female         Brazil  2017           5.1            2.8   \n",
       "5  PT0000005   22    Male        Germany  2018           9.5            6.4   \n",
       "6  PT0000006   41    Male         Canada  2021           5.1            8.2   \n",
       "7  PT0000007   72  Female         Canada  2018           6.0            8.2   \n",
       "8  PT0000008   21    Male            USA  2022           4.3            3.8   \n",
       "9  PT0000009   49  Female         Canada  2016           8.1            0.8   \n",
       "\n",
       "   Alcohol_Use  Smoking  Obesity_Level Cancer_Type Cancer_Stage  \\\n",
       "0          9.5      0.9            8.7        Lung    Stage III   \n",
       "1          3.7      3.9            6.3    Leukemia      Stage 0   \n",
       "2          2.4      4.7            0.1      Breast     Stage II   \n",
       "3          4.8      3.5            2.7       Colon      Stage I   \n",
       "4          2.3      6.7            0.5        Skin    Stage III   \n",
       "5          3.3      3.9            5.1    Cervical     Stage IV   \n",
       "6          0.3      3.7            2.1    Cervical      Stage 0   \n",
       "7          6.4      0.6            8.5    Prostate      Stage I   \n",
       "8          1.0      0.3            8.5        Lung     Stage II   \n",
       "9          7.8      5.2            9.3    Prostate     Stage II   \n",
       "\n",
       "   Treatment_Cost_USD  Survival_Years  Target_Severity_Score  \n",
       "0            62913.44             5.9                   4.92  \n",
       "1            12573.41             4.7                   4.65  \n",
       "2             6984.33             7.1                   5.84  \n",
       "3            67446.25             1.6                   3.12  \n",
       "4            77977.12             2.9                   3.62  \n",
       "5            33468.99             9.5                   5.98  \n",
       "6             9790.83             1.0                   5.05  \n",
       "7            17161.40             6.2                   6.02  \n",
       "8            56458.48             6.5                   3.36  \n",
       "9            56133.45             5.7                   5.76  "
      ]
     },
     "execution_count": 207,
     "metadata": {},
     "output_type": "execute_result"
    }
   ],
   "source": [
    "df.head(10)"
   ]
  },
  {
   "cell_type": "code",
   "execution_count": 208,
   "id": "d8a9a4d0",
   "metadata": {},
   "outputs": [
    {
     "data": {
      "text/html": [
       "<div>\n",
       "<style scoped>\n",
       "    .dataframe tbody tr th:only-of-type {\n",
       "        vertical-align: middle;\n",
       "    }\n",
       "\n",
       "    .dataframe tbody tr th {\n",
       "        vertical-align: top;\n",
       "    }\n",
       "\n",
       "    .dataframe thead th {\n",
       "        text-align: right;\n",
       "    }\n",
       "</style>\n",
       "<table border=\"1\" class=\"dataframe\">\n",
       "  <thead>\n",
       "    <tr style=\"text-align: right;\">\n",
       "      <th></th>\n",
       "      <th>Patient_ID</th>\n",
       "      <th>Age</th>\n",
       "      <th>Gender</th>\n",
       "      <th>Country_Region</th>\n",
       "      <th>Year</th>\n",
       "      <th>Genetic_Risk</th>\n",
       "      <th>Air_Pollution</th>\n",
       "      <th>Alcohol_Use</th>\n",
       "      <th>Smoking</th>\n",
       "      <th>Obesity_Level</th>\n",
       "      <th>Cancer_Type</th>\n",
       "      <th>Cancer_Stage</th>\n",
       "      <th>Treatment_Cost_USD</th>\n",
       "      <th>Survival_Years</th>\n",
       "      <th>Target_Severity_Score</th>\n",
       "      <th>Severity_Score_Level</th>\n",
       "    </tr>\n",
       "  </thead>\n",
       "  <tbody>\n",
       "    <tr>\n",
       "      <th>0</th>\n",
       "      <td>PT0000000</td>\n",
       "      <td>71</td>\n",
       "      <td>Male</td>\n",
       "      <td>UK</td>\n",
       "      <td>2021</td>\n",
       "      <td>6.4</td>\n",
       "      <td>2.8</td>\n",
       "      <td>9.5</td>\n",
       "      <td>0.9</td>\n",
       "      <td>8.7</td>\n",
       "      <td>Lung</td>\n",
       "      <td>Stage III</td>\n",
       "      <td>62913.44</td>\n",
       "      <td>5.9</td>\n",
       "      <td>4.92</td>\n",
       "      <td>Low</td>\n",
       "    </tr>\n",
       "    <tr>\n",
       "      <th>1</th>\n",
       "      <td>PT0000001</td>\n",
       "      <td>34</td>\n",
       "      <td>Male</td>\n",
       "      <td>China</td>\n",
       "      <td>2021</td>\n",
       "      <td>1.3</td>\n",
       "      <td>4.5</td>\n",
       "      <td>3.7</td>\n",
       "      <td>3.9</td>\n",
       "      <td>6.3</td>\n",
       "      <td>Leukemia</td>\n",
       "      <td>Stage 0</td>\n",
       "      <td>12573.41</td>\n",
       "      <td>4.7</td>\n",
       "      <td>4.65</td>\n",
       "      <td>Low</td>\n",
       "    </tr>\n",
       "    <tr>\n",
       "      <th>2</th>\n",
       "      <td>PT0000002</td>\n",
       "      <td>80</td>\n",
       "      <td>Male</td>\n",
       "      <td>Pakistan</td>\n",
       "      <td>2023</td>\n",
       "      <td>7.4</td>\n",
       "      <td>7.9</td>\n",
       "      <td>2.4</td>\n",
       "      <td>4.7</td>\n",
       "      <td>0.1</td>\n",
       "      <td>Breast</td>\n",
       "      <td>Stage II</td>\n",
       "      <td>6984.33</td>\n",
       "      <td>7.1</td>\n",
       "      <td>5.84</td>\n",
       "      <td>High</td>\n",
       "    </tr>\n",
       "    <tr>\n",
       "      <th>3</th>\n",
       "      <td>PT0000003</td>\n",
       "      <td>40</td>\n",
       "      <td>Male</td>\n",
       "      <td>UK</td>\n",
       "      <td>2015</td>\n",
       "      <td>1.7</td>\n",
       "      <td>2.9</td>\n",
       "      <td>4.8</td>\n",
       "      <td>3.5</td>\n",
       "      <td>2.7</td>\n",
       "      <td>Colon</td>\n",
       "      <td>Stage I</td>\n",
       "      <td>67446.25</td>\n",
       "      <td>1.6</td>\n",
       "      <td>3.12</td>\n",
       "      <td>Low</td>\n",
       "    </tr>\n",
       "    <tr>\n",
       "      <th>4</th>\n",
       "      <td>PT0000004</td>\n",
       "      <td>43</td>\n",
       "      <td>Female</td>\n",
       "      <td>Brazil</td>\n",
       "      <td>2017</td>\n",
       "      <td>5.1</td>\n",
       "      <td>2.8</td>\n",
       "      <td>2.3</td>\n",
       "      <td>6.7</td>\n",
       "      <td>0.5</td>\n",
       "      <td>Skin</td>\n",
       "      <td>Stage III</td>\n",
       "      <td>77977.12</td>\n",
       "      <td>2.9</td>\n",
       "      <td>3.62</td>\n",
       "      <td>Low</td>\n",
       "    </tr>\n",
       "  </tbody>\n",
       "</table>\n",
       "</div>"
      ],
      "text/plain": [
       "  Patient_ID  Age  Gender Country_Region  Year  Genetic_Risk  Air_Pollution  \\\n",
       "0  PT0000000   71    Male             UK  2021           6.4            2.8   \n",
       "1  PT0000001   34    Male          China  2021           1.3            4.5   \n",
       "2  PT0000002   80    Male       Pakistan  2023           7.4            7.9   \n",
       "3  PT0000003   40    Male             UK  2015           1.7            2.9   \n",
       "4  PT0000004   43  Female         Brazil  2017           5.1            2.8   \n",
       "\n",
       "   Alcohol_Use  Smoking  Obesity_Level Cancer_Type Cancer_Stage  \\\n",
       "0          9.5      0.9            8.7        Lung    Stage III   \n",
       "1          3.7      3.9            6.3    Leukemia      Stage 0   \n",
       "2          2.4      4.7            0.1      Breast     Stage II   \n",
       "3          4.8      3.5            2.7       Colon      Stage I   \n",
       "4          2.3      6.7            0.5        Skin    Stage III   \n",
       "\n",
       "   Treatment_Cost_USD  Survival_Years  Target_Severity_Score  \\\n",
       "0            62913.44             5.9                   4.92   \n",
       "1            12573.41             4.7                   4.65   \n",
       "2             6984.33             7.1                   5.84   \n",
       "3            67446.25             1.6                   3.12   \n",
       "4            77977.12             2.9                   3.62   \n",
       "\n",
       "  Severity_Score_Level  \n",
       "0                  Low  \n",
       "1                  Low  \n",
       "2                 High  \n",
       "3                  Low  \n",
       "4                  Low  "
      ]
     },
     "execution_count": 208,
     "metadata": {},
     "output_type": "execute_result"
    }
   ],
   "source": [
    "# Create a new column called Severity_Level based on the condition\n",
    "df['Severity_Score_Level'] = df['Target_Severity_Score'].apply(lambda x: 'High' if x > 5 else 'Low')\n",
    "df.head()\n"
   ]
  },
  {
   "cell_type": "markdown",
   "id": "02ce0c50",
   "metadata": {},
   "source": [
    "**Visualizations**"
   ]
  },
  {
   "cell_type": "markdown",
   "id": "6b07db4f",
   "metadata": {},
   "source": [
    "The boxplot below shows the distribution of 'Survival_Years' for each 'Cancer_Stage'.\n",
    "Interpretation:\n",
    "- The central line in each box represents the median survival years for that cancer stage.\n",
    "- The box shows the interquartile range (IQR), where the middle 50% of survival years lie.\n",
    "- Whiskers extend to show the range of most of the data, excluding outliers.\n",
    "- By comparing boxes, you can see which cancer stages have higher or lower median survival, and how variable survival is within each stage.\n",
    "- Stage 0 has a higher median and a taller box, patients in this stage tend to survive longer and have more variation in survival years compared to later stages.\n",
    "- Stage IV has the lowest median survival years, indicating poorer outcomes for patients in this stage."
   ]
  },
  {
   "cell_type": "code",
   "execution_count": 209,
   "id": "a978b536",
   "metadata": {},
   "outputs": [
    {
     "name": "stdout",
     "output_type": "stream",
     "text": [
      "Cancer_Stage\n",
      "Stage 0      5.012644\n",
      "Stage I      5.013586\n",
      "Stage II     4.995588\n",
      "Stage III    5.035590\n",
      "Stage IV     4.970938\n",
      "Name: Survival_Years, dtype: float64\n"
     ]
    }
   ],
   "source": [
    "# Calculate the average survival years by cancer stage\n",
    "avg_survival_by_stage = df.groupby('Cancer_Stage')['Survival_Years'].mean()\n",
    "print(avg_survival_by_stage)"
   ]
  },
  {
   "cell_type": "code",
   "execution_count": 210,
   "id": "bbb11931",
   "metadata": {},
   "outputs": [
    {
     "data": {
      "image/png": "[encoded data removed]",
      "text/plain": [
       "<Figure size 432x288 with 1 Axes>"
      ]
     },
     "metadata": {},
     "output_type": "display_data"
    }
   ],
   "source": [
    "sns.boxplot(x='Cancer_Stage', y='Survival_Years', data=df)\n",
    "plt.title(\"Distribution of Survival Years across Cancer Stages\")\n",
    "plt.show()\n"
   ]
  },
  {
   "cell_type": "markdown",
   "id": "58b0447c",
   "metadata": {},
   "source": [
    "This plot shows the distribution of patients based on the severity of their cancer, categorized as High or Low. It helps visualize how many patients fall into each severity level, providing insight into the overall severity burden within the dataset."
   ]
  },
  {
   "cell_type": "code",
   "execution_count": 211,
   "id": "fcecbb9c",
   "metadata": {},
   "outputs": [
    {
     "data": {
      "image/png": "[encoded data removed]",
      "text/plain": [
       "<Figure size 432x288 with 1 Axes>"
      ]
     },
     "metadata": {},
     "output_type": "display_data"
    }
   ],
   "source": [
    "\n",
    "\n",
    "# Set the plot style\n",
    "sns.set(style=\"whitegrid\")\n",
    "\n",
    "# Plot the count of High and Low severity levels\n",
    "plt.figure(figsize=(6, 4))\n",
    "sns.countplot(x='Severity_Score_Level', data=df, palette='Set2')\n",
    "\n",
    "# Add titles and labels\n",
    "plt.title('Count of Severity Score Levels (High vs Low)', fontsize=14)\n",
    "plt.xlabel('Severity Score Level')\n",
    "plt.ylabel('Count')\n",
    "plt.tight_layout()\n",
    "plt.show()\n"
   ]
  },
  {
   "cell_type": "markdown",
   "id": "4bdd0ab5",
   "metadata": {},
   "source": [
    "From the countplot we can see that the low severity score is the most common then the high severity score meaning that most of the incidents are not severe."
   ]
  },
  {
   "cell_type": "code",
   "execution_count": 212,
   "id": "03bf7726",
   "metadata": {},
   "outputs": [
    {
     "data": {
      "text/plain": [
       "Low     25790\n",
       "High    24059\n",
       "Name: Severity_Score_Level, dtype: int64"
      ]
     },
     "execution_count": 212,
     "metadata": {},
     "output_type": "execute_result"
    }
   ],
   "source": [
    "#checking the value counts of the Severity score levels\n",
    "df[\"Severity_Score_Level\"].value_counts()"
   ]
  },
  {
   "cell_type": "code",
   "execution_count": 213,
   "id": "8eb7e65f",
   "metadata": {},
   "outputs": [
    {
     "data": {
      "text/plain": [
       "Colon       6355\n",
       "Prostate    6293\n",
       "Leukemia    6248\n",
       "Liver       6225\n",
       "Skin        6208\n",
       "Cervical    6200\n",
       "Breast      6179\n",
       "Lung        6141\n",
       "Name: Cancer_Type, dtype: int64"
      ]
     },
     "execution_count": 213,
     "metadata": {},
     "output_type": "execute_result"
    }
   ],
   "source": [
    "df['Cancer_Type'].value_counts()"
   ]
  },
  {
   "cell_type": "markdown",
   "id": "90afe060",
   "metadata": {},
   "source": [
    "We now plot a correlation heatmap to visualize the relationships between different features in the dataset. The heatmap shows how strongly each pair of features is correlated, with darker colors indicating stronger correlations."
   ]
  },
  {
   "cell_type": "code",
   "execution_count": 214,
   "id": "551de07b",
   "metadata": {},
   "outputs": [
    {
     "data": {
      "image/png": "[encoded data removed]",
      "text/plain": [
       "<Figure size 864x576 with 2 Axes>"
      ]
     },
     "metadata": {},
     "output_type": "display_data"
    }
   ],
   "source": [
    "\n",
    "# Plotting the correlation heatmap\n",
    "plt.figure(figsize=(12, 8))\n",
    "sns.heatmap(df.corr(), annot=True, fmt=\".2f\", cmap='coolwarm', square=True, cbar_kws={\"shrink\": .8})\n",
    "plt.title('Correlation Heatmap of Numerical Features', fontsize=16)\n",
    "plt.tight_layout()"
   ]
  },
  {
   "cell_type": "markdown",
   "id": "cc2aed60",
   "metadata": {},
   "source": [
    "From the heatmap we can see that the `Target_Severity_Score` has a positive correlation with `Genetic_Risk`,`Air_Pollution`,`Alcohol_Use`,`Smoking` and `Obesity_Levels` which means that as these factors increase, the severity score also tends to increase. This suggests that these are significant factors may contribute to higher cancer severity."
   ]
  },
  {
   "cell_type": "markdown",
   "id": "ed08478e",
   "metadata": {},
   "source": [
    "\n",
    "We create a new binary column in the dataframe and plot a countplot to visualize the survival status of patients based on their survival years.\n",
    "\n",
    "```python\n",
    "\n",
    "If a patient survived more than 5 years (Survival_Years > 5), it assigns a value of 1.\n",
    "\n",
    "Otherwise (5 years or less), it assigns a value of 0.\n",
    "\n",
    "So now:\n",
    "\n",
    "1 = Patient survived more than 5 years\n",
    "\n",
    "0 = Patient survived 5 years or less\n",
    "\n"
   ]
  },
  {
   "cell_type": "code",
   "execution_count": 215,
   "id": "e1613e82",
   "metadata": {},
   "outputs": [],
   "source": [
    "df['Survived_5_Years'] = (df['Survival_Years'] > 5).astype(int)\n"
   ]
  },
  {
   "cell_type": "code",
   "execution_count": 216,
   "id": "2087e6ac",
   "metadata": {},
   "outputs": [
    {
     "data": {
      "image/png": "[encoded data removed]",
      "text/plain": [
       "<Figure size 432x288 with 1 Axes>"
      ]
     },
     "metadata": {},
     "output_type": "display_data"
    }
   ],
   "source": [
    "sns.countplot(x='Survived_5_Years', data=df)\n",
    "plt.title(\"Patients Surviving More than 5 Years\")\n",
    "plt.show()\n"
   ]
  },
  {
   "cell_type": "markdown",
   "id": "771fcebd",
   "metadata": {},
   "source": [
    "So from the countplot we can see that most of the patients survived less than 5 years which indicates that the dataset may contain a significant number of patients with poor prognosis or advanced cancer stages.\n",
    "\n",
    "Finally, we plot a bar chart to visualize the average survival years for each cancer stage. This helps us understand how survival varies across different stages of cancer."
   ]
  },
  {
   "cell_type": "code",
   "execution_count": 217,
   "id": "11754141",
   "metadata": {},
   "outputs": [
    {
     "data": {
      "image/png": "[encoded data removed]",
      "text/plain": [
       "<Figure size 720x432 with 1 Axes>"
      ]
     },
     "metadata": {},
     "output_type": "display_data"
    }
   ],
   "source": [
    "# we plot a bar chart to visualize the average survival years for each cancer stage\n",
    "plt.figure(figsize=(10, 6))\n",
    "sns.barplot(x=avg_survival_by_stage.index, y=avg_survival_by_stage.values, palette='viridis')\n",
    "plt.title('Average Survival Years by Cancer Stage', fontsize=16)\n",
    "plt.xlabel('Cancer Stage', fontsize=14)\n",
    "plt.ylabel('Average Survival Years', fontsize=14)\n",
    "plt.xticks(rotation=45)\n",
    "plt.tight_layout()\n",
    "plt.show()"
   ]
  },
  {
   "cell_type": "code",
   "execution_count": 218,
   "id": "44d68823",
   "metadata": {},
   "outputs": [
    {
     "data": {
      "text/plain": [
       "0    25268\n",
       "1    24581\n",
       "Name: Survived_5_Years, dtype: int64"
      ]
     },
     "execution_count": 218,
     "metadata": {},
     "output_type": "execute_result"
    }
   ],
   "source": [
    "df[\"Survived_5_Years\"].value_counts()\n"
   ]
  },
  {
   "cell_type": "code",
   "execution_count": 219,
   "id": "b2779229",
   "metadata": {},
   "outputs": [
    {
     "data": {
      "image/png": "[encoded data removed]",
      "text/plain": [
       "<Figure size 720x432 with 1 Axes>"
      ]
     },
     "metadata": {},
     "output_type": "display_data"
    }
   ],
   "source": [
    "#We plot the distribution of survival years for patients who survived more than 5 years\n",
    "plt.figure(figsize=(10, 6))\n",
    "sns.histplot(df[df['Survived_5_Years'] == 1]['Survival_Years'], bins=30, kde=True, color='green')\n",
    "plt.title('Distribution of Survival Years for Patients Surviving More than 5 Years', fontsize=16)   \n",
    "plt.xlabel('Survival Years', fontsize=14)\n",
    "plt.ylabel('Frequency', fontsize=14)\n",
    "plt.axvline(x=5, color='red', linestyle='--', label='5 Years Survival Threshold')\n",
    "plt.legend()\n",
    "plt.tight_layout()\n",
    "plt.show();"
   ]
  },
  {
   "cell_type": "markdown",
   "id": "f4d7aad0",
   "metadata": {},
   "source": [
    "The plot above shows the distribution of survival years for patients who survived more than 5 years. Most patients in this group survived between 5 and 10 years, with the frequency decreasing as survival years increase. The red dashed line at 5 years marks the threshold used to define long-term survival. This visualization highlights that while some patients achieve extended survival, the majority cluster closer to the 5-year mark, indicating that surviving significantly longer than 5 years is less common."
   ]
  },
  {
   "cell_type": "markdown",
   "id": "c1e5ff30",
   "metadata": {},
   "source": [
    "**Hypothesis Testing**\n",
    "In this section we will perform hypothesis testing to investigate whether there are significant differences in survival years across different cancer stages.This analysis investigates whether survival outcomes differ significantly across cancer stages by  testing for normality using the Shapiro-Wilk test and checking for equal variances with Levene’s test. If assumptions are met, a One-Way ANOVA is conducted, followed by Tukey’s HSD post-hoc test if significant, to identify which cancer stages show meaningful differences in survival—addressing the second objective of the project.\n"
   ]
  },
  {
   "cell_type": "markdown",
   "id": "13590e69",
   "metadata": {},
   "source": [
    "Null Hypothesis (H₀):\n",
    "There is no significant difference in the median survival years among patients at different cancer stages.\n",
    "\n",
    "Alternative Hypothesis (H₁):\n",
    "There is a significant difference in the median survival years among patients at different cancer stages."
   ]
  },
  {
   "cell_type": "code",
   "execution_count": 228,
   "id": "db040d81",
   "metadata": {},
   "outputs": [
    {
     "name": "stdout",
     "output_type": "stream",
     "text": [
      "Shapiro test for Stage III: p-value=0.0\n",
      "Shapiro test for Stage 0: p-value=0.0\n",
      "Shapiro test for Stage II: p-value=0.0\n",
      "Shapiro test for Stage I: p-value=0.0\n",
      "Shapiro test for Stage IV: p-value=0.0\n",
      "Levene test p-value=0.77905976235781\n",
      "ANOVA p-value=0.5973811921947265\n"
     ]
    }
   ],
   "source": [
    "# Test normality within each stage\n",
    "for stage in df['Cancer_Stage'].unique():\n",
    "    stat, p = shapiro(df[df['Cancer_Stage'] == stage]['Survival_Years'])\n",
    "    print(f'Shapiro test for {stage}: p-value={p}')\n",
    "\n",
    "# Test homogeneity of variances\n",
    "stat, p = levene(*[df[df['Cancer_Stage'] == stage]['Survival_Years'] for stage in df['Cancer_Stage'].unique()])\n",
    "print(f'Levene test p-value={p}')\n",
    "\n",
    "# If assumptions met:\n",
    "stat, p = f_oneway(*[df[df['Cancer_Stage'] == stage]['Survival_Years'] for stage in df['Cancer_Stage'].unique()])\n",
    "print(f'ANOVA p-value={p}')\n",
    "\n",
    "# If significant, do post-hoc Tukey test\n",
    "if p < 0.05:\n",
    "    tukey = pairwise_tukeyhsd(endog=df['Survival_Years'], groups=df['Cancer_Stage'], alpha=0.05)\n",
    "    print(tukey)\n"
   ]
  },
  {
   "cell_type": "markdown",
   "id": "35c1400e",
   "metadata": {},
   "source": [
    "The Anova pvalue is 0.59738 we fail to reject the null hypothesis, indicating that there is no significant difference in survival years across different cancer stages. "
   ]
  },
  {
   "cell_type": "code",
   "execution_count": 227,
   "id": "319547e7",
   "metadata": {},
   "outputs": [
    {
     "name": "stdout",
     "output_type": "stream",
     "text": [
      "Kruskal-Wallis test p-value = 0.598630361474873\n"
     ]
    }
   ],
   "source": [
    "from scipy.stats import kruskal\n",
    "\n",
    "groups = [df[df['Cancer_Stage'] == stage]['Survival_Years'] for stage in df['Cancer_Stage'].unique()]\n",
    "stat, p = kruskal(*groups)\n",
    "print(f\"Kruskal-Wallis test p-value = {p}\")\n"
   ]
  }
 ],
 "metadata": {
  "kernelspec": {
   "display_name": "learn env",
   "language": "python",
   "name": "learn-env"
  },
  "language_info": {
   "codemirror_mode": {
    "name": "ipython",
    "version": 3
   },
   "file_extension": ".py",
   "mimetype": "text/x-python",
   "name": "python",
   "nbconvert_exporter": "python",
   "pygments_lexer": "ipython3",
   "version": "3.8.5"
  }
 },
 "nbformat": 4,
 "nbformat_minor": 5
}
