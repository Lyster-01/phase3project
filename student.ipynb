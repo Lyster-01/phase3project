{
 "cells": [
  {
   "cell_type": "code",
   "execution_count": 18,
   "id": "df89e042",
   "metadata": {},
   "outputs": [],
   "source": [
    "#Import the necessary libraries\n",
    "import pandas as pd\n",
    "import matplotlib.pyplot as plt"
   ]
  },
  {
   "cell_type": "code",
   "execution_count": 4,
   "id": "28bd26df",
   "metadata": {},
   "outputs": [
    {
     "data": {
      "text/html": [
       "<div>\n",
       "<style scoped>\n",
       "    .dataframe tbody tr th:only-of-type {\n",
       "        vertical-align: middle;\n",
       "    }\n",
       "\n",
       "    .dataframe tbody tr th {\n",
       "        vertical-align: top;\n",
       "    }\n",
       "\n",
       "    .dataframe thead th {\n",
       "        text-align: right;\n",
       "    }\n",
       "</style>\n",
       "<table border=\"1\" class=\"dataframe\">\n",
       "  <thead>\n",
       "    <tr style=\"text-align: right;\">\n",
       "      <th></th>\n",
       "      <th>Patient_ID</th>\n",
       "      <th>Age</th>\n",
       "      <th>Gender</th>\n",
       "      <th>Country_Region</th>\n",
       "      <th>Year</th>\n",
       "      <th>Genetic_Risk</th>\n",
       "      <th>Air_Pollution</th>\n",
       "      <th>Alcohol_Use</th>\n",
       "      <th>Smoking</th>\n",
       "      <th>Obesity_Level</th>\n",
       "      <th>Cancer_Type</th>\n",
       "      <th>Cancer_Stage</th>\n",
       "      <th>Treatment_Cost_USD</th>\n",
       "      <th>Survival_Years</th>\n",
       "      <th>Target_Severity_Score</th>\n",
       "    </tr>\n",
       "  </thead>\n",
       "  <tbody>\n",
       "    <tr>\n",
       "      <th>0</th>\n",
       "      <td>PT0000000</td>\n",
       "      <td>71</td>\n",
       "      <td>Male</td>\n",
       "      <td>UK</td>\n",
       "      <td>2021</td>\n",
       "      <td>6.4</td>\n",
       "      <td>2.8</td>\n",
       "      <td>9.5</td>\n",
       "      <td>0.9</td>\n",
       "      <td>8.7</td>\n",
       "      <td>Lung</td>\n",
       "      <td>Stage III</td>\n",
       "      <td>62913.44</td>\n",
       "      <td>5.9</td>\n",
       "      <td>4.92</td>\n",
       "    </tr>\n",
       "    <tr>\n",
       "      <th>1</th>\n",
       "      <td>PT0000001</td>\n",
       "      <td>34</td>\n",
       "      <td>Male</td>\n",
       "      <td>China</td>\n",
       "      <td>2021</td>\n",
       "      <td>1.3</td>\n",
       "      <td>4.5</td>\n",
       "      <td>3.7</td>\n",
       "      <td>3.9</td>\n",
       "      <td>6.3</td>\n",
       "      <td>Leukemia</td>\n",
       "      <td>Stage 0</td>\n",
       "      <td>12573.41</td>\n",
       "      <td>4.7</td>\n",
       "      <td>4.65</td>\n",
       "    </tr>\n",
       "    <tr>\n",
       "      <th>2</th>\n",
       "      <td>PT0000002</td>\n",
       "      <td>80</td>\n",
       "      <td>Male</td>\n",
       "      <td>Pakistan</td>\n",
       "      <td>2023</td>\n",
       "      <td>7.4</td>\n",
       "      <td>7.9</td>\n",
       "      <td>2.4</td>\n",
       "      <td>4.7</td>\n",
       "      <td>0.1</td>\n",
       "      <td>Breast</td>\n",
       "      <td>Stage II</td>\n",
       "      <td>6984.33</td>\n",
       "      <td>7.1</td>\n",
       "      <td>5.84</td>\n",
       "    </tr>\n",
       "    <tr>\n",
       "      <th>3</th>\n",
       "      <td>PT0000003</td>\n",
       "      <td>40</td>\n",
       "      <td>Male</td>\n",
       "      <td>UK</td>\n",
       "      <td>2015</td>\n",
       "      <td>1.7</td>\n",
       "      <td>2.9</td>\n",
       "      <td>4.8</td>\n",
       "      <td>3.5</td>\n",
       "      <td>2.7</td>\n",
       "      <td>Colon</td>\n",
       "      <td>Stage I</td>\n",
       "      <td>67446.25</td>\n",
       "      <td>1.6</td>\n",
       "      <td>3.12</td>\n",
       "    </tr>\n",
       "    <tr>\n",
       "      <th>4</th>\n",
       "      <td>PT0000004</td>\n",
       "      <td>43</td>\n",
       "      <td>Female</td>\n",
       "      <td>Brazil</td>\n",
       "      <td>2017</td>\n",
       "      <td>5.1</td>\n",
       "      <td>2.8</td>\n",
       "      <td>2.3</td>\n",
       "      <td>6.7</td>\n",
       "      <td>0.5</td>\n",
       "      <td>Skin</td>\n",
       "      <td>Stage III</td>\n",
       "      <td>77977.12</td>\n",
       "      <td>2.9</td>\n",
       "      <td>3.62</td>\n",
       "    </tr>\n",
       "  </tbody>\n",
       "</table>\n",
       "</div>"
      ],
      "text/plain": [
       "  Patient_ID  Age  Gender Country_Region  Year  Genetic_Risk  Air_Pollution  \\\n",
       "0  PT0000000   71    Male             UK  2021           6.4            2.8   \n",
       "1  PT0000001   34    Male          China  2021           1.3            4.5   \n",
       "2  PT0000002   80    Male       Pakistan  2023           7.4            7.9   \n",
       "3  PT0000003   40    Male             UK  2015           1.7            2.9   \n",
       "4  PT0000004   43  Female         Brazil  2017           5.1            2.8   \n",
       "\n",
       "   Alcohol_Use  Smoking  Obesity_Level Cancer_Type Cancer_Stage  \\\n",
       "0          9.5      0.9            8.7        Lung    Stage III   \n",
       "1          3.7      3.9            6.3    Leukemia      Stage 0   \n",
       "2          2.4      4.7            0.1      Breast     Stage II   \n",
       "3          4.8      3.5            2.7       Colon      Stage I   \n",
       "4          2.3      6.7            0.5        Skin    Stage III   \n",
       "\n",
       "   Treatment_Cost_USD  Survival_Years  Target_Severity_Score  \n",
       "0            62913.44             5.9                   4.92  \n",
       "1            12573.41             4.7                   4.65  \n",
       "2             6984.33             7.1                   5.84  \n",
       "3            67446.25             1.6                   3.12  \n",
       "4            77977.12             2.9                   3.62  "
      ]
     },
     "execution_count": 4,
     "metadata": {},
     "output_type": "execute_result"
    }
   ],
   "source": [
    "#Loading the dataset and display the first few rows\n",
    "df = pd.read_csv(\"global_cancer_patients_2015_2024.csv\")\n",
    "df.head()"
   ]
  },
  {
   "cell_type": "code",
   "execution_count": null,
   "id": "a68788fb",
   "metadata": {},
   "outputs": [
    {
     "data": {
      "text/plain": [
       "Index(['Patient_ID', 'Age', 'Gender', 'Country_Region', 'Year', 'Genetic_Risk',\n",
       "       'Air_Pollution', 'Alcohol_Use', 'Smoking', 'Obesity_Level',\n",
       "       'Cancer_Type', 'Cancer_Stage', 'Treatment_Cost_USD', 'Survival_Years',\n",
       "       'Target_Severity_Score'],\n",
       "      dtype='object')"
      ]
     },
     "execution_count": 9,
     "metadata": {},
     "output_type": "execute_result"
    }
   ],
   "source": [
    "#Check for the columns in the dataframe\n",
    "df.columns"
   ]
  },
  {
   "cell_type": "code",
   "execution_count": null,
   "id": "f1837215",
   "metadata": {},
   "outputs": [
    {
     "name": "stdout",
     "output_type": "stream",
     "text": [
      "The dataframe contains 50000 rows\n",
      "The dataframe contains 15 columns\n"
     ]
    }
   ],
   "source": [
    "#Show the number of rows and columns in the dataset\n",
    "print(f'The dataframe contains {df.shape[0]} rows')\n",
    "print(f'The dataframe contains {df.shape[1]} columns')"
   ]
  },
  {
   "cell_type": "code",
   "execution_count": null,
   "id": "01d0a356",
   "metadata": {},
   "outputs": [
    {
     "name": "stdout",
     "output_type": "stream",
     "text": [
      "<class 'pandas.core.frame.DataFrame'>\n",
      "RangeIndex: 50000 entries, 0 to 49999\n",
      "Data columns (total 15 columns):\n",
      " #   Column                 Non-Null Count  Dtype  \n",
      "---  ------                 --------------  -----  \n",
      " 0   Patient_ID             50000 non-null  object \n",
      " 1   Age                    50000 non-null  int64  \n",
      " 2   Gender                 50000 non-null  object \n",
      " 3   Country_Region         50000 non-null  object \n",
      " 4   Year                   50000 non-null  int64  \n",
      " 5   Genetic_Risk           50000 non-null  float64\n",
      " 6   Air_Pollution          50000 non-null  float64\n",
      " 7   Alcohol_Use            50000 non-null  float64\n",
      " 8   Smoking                50000 non-null  float64\n",
      " 9   Obesity_Level          50000 non-null  float64\n",
      " 10  Cancer_Type            50000 non-null  object \n",
      " 11  Cancer_Stage           50000 non-null  object \n",
      " 12  Treatment_Cost_USD     50000 non-null  float64\n",
      " 13  Survival_Years         50000 non-null  float64\n",
      " 14  Target_Severity_Score  50000 non-null  float64\n",
      "dtypes: float64(8), int64(2), object(5)\n",
      "memory usage: 5.7+ MB\n"
     ]
    }
   ],
   "source": [
    "# Get the basic information and concise summary of the dataframe\n",
    "df.info()"
   ]
  },
  {
   "cell_type": "code",
   "execution_count": 7,
   "id": "b15a136a",
   "metadata": {},
   "outputs": [
    {
     "data": {
      "text/html": [
       "<div>\n",
       "<style scoped>\n",
       "    .dataframe tbody tr th:only-of-type {\n",
       "        vertical-align: middle;\n",
       "    }\n",
       "\n",
       "    .dataframe tbody tr th {\n",
       "        vertical-align: top;\n",
       "    }\n",
       "\n",
       "    .dataframe thead th {\n",
       "        text-align: right;\n",
       "    }\n",
       "</style>\n",
       "<table border=\"1\" class=\"dataframe\">\n",
       "  <thead>\n",
       "    <tr style=\"text-align: right;\">\n",
       "      <th></th>\n",
       "      <th>Age</th>\n",
       "      <th>Year</th>\n",
       "      <th>Genetic_Risk</th>\n",
       "      <th>Air_Pollution</th>\n",
       "      <th>Alcohol_Use</th>\n",
       "      <th>Smoking</th>\n",
       "      <th>Obesity_Level</th>\n",
       "      <th>Treatment_Cost_USD</th>\n",
       "      <th>Survival_Years</th>\n",
       "      <th>Target_Severity_Score</th>\n",
       "    </tr>\n",
       "  </thead>\n",
       "  <tbody>\n",
       "    <tr>\n",
       "      <th>count</th>\n",
       "      <td>50000.000000</td>\n",
       "      <td>50000.000000</td>\n",
       "      <td>50000.000000</td>\n",
       "      <td>50000.000000</td>\n",
       "      <td>50000.000000</td>\n",
       "      <td>50000.000000</td>\n",
       "      <td>50000.000000</td>\n",
       "      <td>50000.000000</td>\n",
       "      <td>50000.000000</td>\n",
       "      <td>50000.000000</td>\n",
       "    </tr>\n",
       "    <tr>\n",
       "      <th>mean</th>\n",
       "      <td>54.421540</td>\n",
       "      <td>2019.480520</td>\n",
       "      <td>5.001698</td>\n",
       "      <td>5.010126</td>\n",
       "      <td>5.010880</td>\n",
       "      <td>4.989826</td>\n",
       "      <td>4.991176</td>\n",
       "      <td>52467.298239</td>\n",
       "      <td>5.006462</td>\n",
       "      <td>4.951207</td>\n",
       "    </tr>\n",
       "    <tr>\n",
       "      <th>std</th>\n",
       "      <td>20.224451</td>\n",
       "      <td>2.871485</td>\n",
       "      <td>2.885773</td>\n",
       "      <td>2.888399</td>\n",
       "      <td>2.888769</td>\n",
       "      <td>2.881579</td>\n",
       "      <td>2.894504</td>\n",
       "      <td>27363.229379</td>\n",
       "      <td>2.883335</td>\n",
       "      <td>1.199677</td>\n",
       "    </tr>\n",
       "    <tr>\n",
       "      <th>min</th>\n",
       "      <td>20.000000</td>\n",
       "      <td>2015.000000</td>\n",
       "      <td>0.000000</td>\n",
       "      <td>0.000000</td>\n",
       "      <td>0.000000</td>\n",
       "      <td>0.000000</td>\n",
       "      <td>0.000000</td>\n",
       "      <td>5000.050000</td>\n",
       "      <td>0.000000</td>\n",
       "      <td>0.900000</td>\n",
       "    </tr>\n",
       "    <tr>\n",
       "      <th>25%</th>\n",
       "      <td>37.000000</td>\n",
       "      <td>2017.000000</td>\n",
       "      <td>2.500000</td>\n",
       "      <td>2.500000</td>\n",
       "      <td>2.500000</td>\n",
       "      <td>2.500000</td>\n",
       "      <td>2.500000</td>\n",
       "      <td>28686.225000</td>\n",
       "      <td>2.500000</td>\n",
       "      <td>4.120000</td>\n",
       "    </tr>\n",
       "    <tr>\n",
       "      <th>50%</th>\n",
       "      <td>54.000000</td>\n",
       "      <td>2019.000000</td>\n",
       "      <td>5.000000</td>\n",
       "      <td>5.000000</td>\n",
       "      <td>5.000000</td>\n",
       "      <td>5.000000</td>\n",
       "      <td>5.000000</td>\n",
       "      <td>52474.310000</td>\n",
       "      <td>5.000000</td>\n",
       "      <td>4.950000</td>\n",
       "    </tr>\n",
       "    <tr>\n",
       "      <th>75%</th>\n",
       "      <td>72.000000</td>\n",
       "      <td>2022.000000</td>\n",
       "      <td>7.500000</td>\n",
       "      <td>7.500000</td>\n",
       "      <td>7.500000</td>\n",
       "      <td>7.500000</td>\n",
       "      <td>7.500000</td>\n",
       "      <td>76232.720000</td>\n",
       "      <td>7.500000</td>\n",
       "      <td>5.780000</td>\n",
       "    </tr>\n",
       "    <tr>\n",
       "      <th>max</th>\n",
       "      <td>89.000000</td>\n",
       "      <td>2024.000000</td>\n",
       "      <td>10.000000</td>\n",
       "      <td>10.000000</td>\n",
       "      <td>10.000000</td>\n",
       "      <td>10.000000</td>\n",
       "      <td>10.000000</td>\n",
       "      <td>99999.840000</td>\n",
       "      <td>10.000000</td>\n",
       "      <td>9.160000</td>\n",
       "    </tr>\n",
       "  </tbody>\n",
       "</table>\n",
       "</div>"
      ],
      "text/plain": [
       "                Age          Year  Genetic_Risk  Air_Pollution   Alcohol_Use  \\\n",
       "count  50000.000000  50000.000000  50000.000000   50000.000000  50000.000000   \n",
       "mean      54.421540   2019.480520      5.001698       5.010126      5.010880   \n",
       "std       20.224451      2.871485      2.885773       2.888399      2.888769   \n",
       "min       20.000000   2015.000000      0.000000       0.000000      0.000000   \n",
       "25%       37.000000   2017.000000      2.500000       2.500000      2.500000   \n",
       "50%       54.000000   2019.000000      5.000000       5.000000      5.000000   \n",
       "75%       72.000000   2022.000000      7.500000       7.500000      7.500000   \n",
       "max       89.000000   2024.000000     10.000000      10.000000     10.000000   \n",
       "\n",
       "            Smoking  Obesity_Level  Treatment_Cost_USD  Survival_Years  \\\n",
       "count  50000.000000   50000.000000        50000.000000    50000.000000   \n",
       "mean       4.989826       4.991176        52467.298239        5.006462   \n",
       "std        2.881579       2.894504        27363.229379        2.883335   \n",
       "min        0.000000       0.000000         5000.050000        0.000000   \n",
       "25%        2.500000       2.500000        28686.225000        2.500000   \n",
       "50%        5.000000       5.000000        52474.310000        5.000000   \n",
       "75%        7.500000       7.500000        76232.720000        7.500000   \n",
       "max       10.000000      10.000000        99999.840000       10.000000   \n",
       "\n",
       "       Target_Severity_Score  \n",
       "count           50000.000000  \n",
       "mean                4.951207  \n",
       "std                 1.199677  \n",
       "min                 0.900000  \n",
       "25%                 4.120000  \n",
       "50%                 4.950000  \n",
       "75%                 5.780000  \n",
       "max                 9.160000  "
      ]
     },
     "execution_count": 7,
     "metadata": {},
     "output_type": "execute_result"
    }
   ],
   "source": [
    "#checking the summary statistics of the dataset\n",
    "df.describe()"
   ]
  },
  {
   "cell_type": "code",
   "execution_count": 14,
   "id": "2bb998aa",
   "metadata": {},
   "outputs": [
    {
     "data": {
      "text/plain": [
       "0"
      ]
     },
     "execution_count": 14,
     "metadata": {},
     "output_type": "execute_result"
    }
   ],
   "source": [
    "# Check for the duplicates in the dataframe \n",
    "df.duplicated().sum()"
   ]
  },
  {
   "cell_type": "markdown",
   "id": "9799d0b8",
   "metadata": {},
   "source": [
    "There are no duplicates in the dataframe so the dataframe will remain unchanged "
   ]
  },
  {
   "cell_type": "code",
   "execution_count": null,
   "id": "08cc1edb",
   "metadata": {},
   "outputs": [
    {
     "data": {
      "text/plain": [
       "Patient_ID                object\n",
       "Age                        int64\n",
       "Gender                    object\n",
       "Country_Region            object\n",
       "Year                       int64\n",
       "Genetic_Risk             float64\n",
       "Air_Pollution            float64\n",
       "Alcohol_Use              float64\n",
       "Smoking                  float64\n",
       "Obesity_Level            float64\n",
       "Cancer_Type               object\n",
       "Cancer_Stage              object\n",
       "Treatment_Cost_USD       float64\n",
       "Survival_Years           float64\n",
       "Target_Severity_Score    float64\n",
       "dtype: object"
      ]
     },
     "execution_count": 15,
     "metadata": {},
     "output_type": "execute_result"
    }
   ],
   "source": [
    "#Check for the data types of the columns in the dataframe\n",
    "df.dtypes"
   ]
  },
  {
   "cell_type": "code",
   "execution_count": 17,
   "id": "8dc56ae1",
   "metadata": {},
   "outputs": [
    {
     "data": {
      "text/plain": [
       "Patient_ID               0\n",
       "Age                      0\n",
       "Gender                   0\n",
       "Country_Region           0\n",
       "Year                     0\n",
       "Genetic_Risk             0\n",
       "Air_Pollution            0\n",
       "Alcohol_Use              0\n",
       "Smoking                  0\n",
       "Obesity_Level            0\n",
       "Cancer_Type              0\n",
       "Cancer_Stage             0\n",
       "Treatment_Cost_USD       0\n",
       "Survival_Years           0\n",
       "Target_Severity_Score    0\n",
       "dtype: int64"
      ]
     },
     "execution_count": 17,
     "metadata": {},
     "output_type": "execute_result"
    }
   ],
   "source": [
    "# Checking for missing values in the dataset\n",
    "df.isna().sum()"
   ]
  },
  {
   "cell_type": "markdown",
   "id": "f018f5fa",
   "metadata": {},
   "source": [
    "There aren't any missing values in the dataframe so the dataframe will remain unchanged "
   ]
  },
  {
   "cell_type": "code",
   "execution_count": 19,
   "id": "a844030e",
   "metadata": {},
   "outputs": [
    {
     "data": {
      "image/png": "[encoded data removed]",
      "text/plain": [
       "<Figure size 1080x864 with 12 Axes>"
      ]
     },
     "metadata": {
      "needs_background": "light"
     },
     "output_type": "display_data"
    }
   ],
   "source": [
    "#Checking and handling outliers\n",
    "\n",
    "# Plot histograms for all numeric columns in df\n",
    "df.hist(figsize=(15, 12), bins=30, edgecolor='black')\n",
    "plt.suptitle('Histogram of Numerical Features', fontsize=16)\n",
    "plt.tight_layout()\n",
    "plt.show()\n",
    "\n"
   ]
  },
  {
   "cell_type": "code",
   "execution_count": 20,
   "id": "a8076304",
   "metadata": {},
   "outputs": [
    {
     "name": "stdout",
     "output_type": "stream",
     "text": [
      "Column: Age\n",
      "Number of outliers: 0\n",
      "----------------------------------------\n",
      "Column: Year\n",
      "Number of outliers: 0\n",
      "----------------------------------------\n",
      "Column: Genetic_Risk\n",
      "Number of outliers: 0\n",
      "----------------------------------------\n",
      "Column: Air_Pollution\n",
      "Number of outliers: 0\n",
      "----------------------------------------\n",
      "Column: Alcohol_Use\n",
      "Number of outliers: 0\n",
      "----------------------------------------\n",
      "Column: Smoking\n",
      "Number of outliers: 0\n",
      "----------------------------------------\n",
      "Column: Obesity_Level\n",
      "Number of outliers: 0\n",
      "----------------------------------------\n",
      "Column: Treatment_Cost_USD\n",
      "Number of outliers: 0\n",
      "----------------------------------------\n",
      "Column: Survival_Years\n",
      "Number of outliers: 0\n",
      "----------------------------------------\n",
      "Column: Target_Severity_Score\n",
      "Number of outliers: 151\n",
      "----------------------------------------\n"
     ]
    }
   ],
   "source": [
    "\n",
    "\n",
    "# Select only numeric columns\n",
    "numeric_cols = df.select_dtypes(include=['float64', 'int64']).columns\n",
    "\n",
    "# Dictionary to store outlier indices per feature\n",
    "outlier_indices = {}\n",
    "\n",
    "# Loop through each numeric column to compute IQR and find outliers\n",
    "for col in numeric_cols:\n",
    "    Q1 = df[col].quantile(0.25)\n",
    "    Q3 = df[col].quantile(0.75)\n",
    "    IQR = Q3 - Q1\n",
    "    \n",
    "    lower_bound = Q1 - 1.5 * IQR\n",
    "    upper_bound = Q3 + 1.5 * IQR\n",
    "    \n",
    "    # Identify outliers\n",
    "    outliers = df[(df[col] < lower_bound) | (df[col] > upper_bound)]\n",
    "    \n",
    "    outlier_indices[col] = outliers.index.tolist()\n",
    "    \n",
    "    print(f\"Column: {col}\")\n",
    "    print(f\"Number of outliers: {len(outliers)}\")\n",
    "    print(\"-\" * 40)\n"
   ]
  },
  {
   "cell_type": "markdown",
   "id": "1f6d4364",
   "metadata": {},
   "source": [
    "There are **151 outliers** detected in the `Target_Severity_Score` column based on the IQR method, and they will be **dropped** to improve model reliability.\n"
   ]
  },
  {
   "cell_type": "code",
   "execution_count": null,
   "id": "20e090e7",
   "metadata": {},
   "outputs": [],
   "source": [
    "# Handling Outliers in Target_Severity_Score\n",
    "#During exploratory data analysis, outliers were identified in the Target_Severity_Score column using the Interquartile Range (IQR) method. A total of 151 outliers were detected. Given that the dataset contains a sufficient number of records, these outliers were removed to reduce their potential impact on model performance and to ensure more stable and reliable predictions. This step was taken to improve model generalization and reduce the risk of overfitting due to extreme values."
   ]
  },
  {
   "cell_type": "code",
   "execution_count": 21,
   "id": "9a30cb11",
   "metadata": {},
   "outputs": [],
   "source": [
    "df = df[(df['Target_Severity_Score'] >= lower_bound) & (df['Target_Severity_Score'] <= upper_bound)]\n"
   ]
  },
  {
   "cell_type": "code",
   "execution_count": null,
   "id": "a95ac20e",
   "metadata": {},
   "outputs": [
    {
     "name": "stdout",
     "output_type": "stream",
     "text": [
      "<class 'pandas.core.frame.DataFrame'>\n",
      "Int64Index: 49849 entries, 0 to 49999\n",
      "Data columns (total 15 columns):\n",
      " #   Column                 Non-Null Count  Dtype  \n",
      "---  ------                 --------------  -----  \n",
      " 0   Patient_ID             49849 non-null  object \n",
      " 1   Age                    49849 non-null  int64  \n",
      " 2   Gender                 49849 non-null  object \n",
      " 3   Country_Region         49849 non-null  object \n",
      " 4   Year                   49849 non-null  int64  \n",
      " 5   Genetic_Risk           49849 non-null  float64\n",
      " 6   Air_Pollution          49849 non-null  float64\n",
      " 7   Alcohol_Use            49849 non-null  float64\n",
      " 8   Smoking                49849 non-null  float64\n",
      " 9   Obesity_Level          49849 non-null  float64\n",
      " 10  Cancer_Type            49849 non-null  object \n",
      " 11  Cancer_Stage           49849 non-null  object \n",
      " 12  Treatment_Cost_USD     49849 non-null  float64\n",
      " 13  Survival_Years         49849 non-null  float64\n",
      " 14  Target_Severity_Score  49849 non-null  float64\n",
      "dtypes: float64(8), int64(2), object(5)\n",
      "memory usage: 6.1+ MB\n"
     ]
    }
   ],
   "source": [
    "#Checking agin to see the basic information of the dataset after dropping the outliers\n",
    "df.info()"
   ]
  },
  {
   "cell_type": "code",
   "execution_count": null,
   "id": "bdc099ea",
   "metadata": {},
   "outputs": [],
   "source": []
  }
 ],
 "metadata": {
  "kernelspec": {
   "display_name": "learn env",
   "language": "python",
   "name": "learn-env"
  },
  "language_info": {
   "codemirror_mode": {
    "name": "ipython",
    "version": 3
   },
   "file_extension": ".py",
   "mimetype": "text/x-python",
   "name": "python",
   "nbconvert_exporter": "python",
   "pygments_lexer": "ipython3",
   "version": "3.8.5"
  }
 },
 "nbformat": 4,
 "nbformat_minor": 5
}
